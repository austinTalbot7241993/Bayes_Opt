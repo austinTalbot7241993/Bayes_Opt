{
 "cells": [
  {
   "cell_type": "markdown",
   "id": "21affd08",
   "metadata": {},
   "source": [
    "# Bayesian Optimization in higher dimensions\n",
    "\n",
    "In 1 dimension, random sampling is likely to perform basically as well as Bayesian optimization. Where BO really shines is when this function is multi-dimensional, corresponding to multiple parameters being optimized. \n",
    "\n",
    "We optimize the synthetic Hartmann6 test function, representing our unknown response curve. The standard problem is\n",
    "\n",
    "$$f(x) = -\\sum_{i=1}^4 \\alpha_i \\exp \\left( -\\sum_{j=1}^6 A_{ij} (x_j - P_{ij})^2  \\right)$$\n",
    "\n",
    "over $x \\in [0,1]^6$ (parameter values can be found in `botorch/test_functions/hartmann6.py`).\n",
    "\n",
    "Since botorch assumes a maximization problem, we will attempt to maximize $-f(x)$ to achieve $\\max_{x} -f(x) = 3.32237$.\n",
    "\n",
    "Note that in this implementation, and we suggest all implementations, parameters are modified to lie in the [0,1] range!"
   ]
  },
  {
   "cell_type": "code",
   "execution_count": 1,
   "id": "051d94fd",
   "metadata": {},
   "outputs": [],
   "source": [
    "import numpy as np\n",
    "import sys,os\n",
    "import numpy.random as rand\n",
    "from tqdm import trange\n",
    "import torch\n",
    "from scipy.stats.qmc import Sobol\n",
    "import matplotlib.pyplot as plt\n",
    "\n",
    "from botorch.models import SingleTaskGP\n",
    "from gpytorch.mlls.sum_marginal_log_likelihood import ExactMarginalLogLikelihood\n",
    "from botorch import fit_gpytorch_model\n",
    "\n",
    "\n",
    "sys.path.append('../Code/BoTorch/')\n",
    "from bayesOptModel import BasicBayesOpt\n",
    "\n",
    "rand.seed(1993)"
   ]
  },
  {
   "cell_type": "markdown",
   "id": "455f2151",
   "metadata": {},
   "source": [
    "## We now define our model \"System\"\n",
    "\n",
    "true_response_curve - a function that takes parameters as input and returns a noise-free observation of patient response (negative Hartman function)\n"
   ]
  },
  {
   "cell_type": "code",
   "execution_count": 2,
   "id": "eeff300a",
   "metadata": {},
   "outputs": [],
   "source": [
    "from botorch.test_functions import Hartmann\n",
    "\n",
    "\n",
    "neg_hartmann6 = Hartmann(negate=True)\n",
    "\n",
    "def true_response_curve(parameters):\n",
    "    '''\n",
    "    Given parameter choice, the true response curve is noise_free_response.\n",
    "    '''\n",
    "    noise_free_response = neg_hartmann6(torch.from_numpy(parameters))\n",
    "    return noise_free_response.numpy()\n",
    "\n",
    "\n",
    "response_noise_se = 0.5 # The noise we expect in the tuning curve\n",
    "def Synthetic_experiment(parameters):\n",
    "    '''\n",
    "    We stimulate X and observe a noisy response Y from the patient.\n",
    "    '''\n",
    "    true_response = true_response_curve(parameters) \n",
    "    observed_response = true_response + rand.randn(len(parameters))*response_noise_se\n",
    "    return observed_response\n",
    "    "
   ]
  },
  {
   "cell_type": "markdown",
   "id": "7c36acb1",
   "metadata": {},
   "source": [
    "## Initial observations\n",
    "\n",
    "We now start our scientific experiment. We will stimulate 16 times at \"random\" locations to provide an evenly spaced estimate of the surrogate model.\n",
    "\n",
    "Note that we start with a Sobol sampler rather than true random samples. These are random but allow for a more even spacing of the space. It should always be done as a power of two. For more information see\n",
    "\n",
    "https://en.wikipedia.org/wiki/Sobol_sequence\n",
    "\n",
    "An example of how this is done is shown below"
   ]
  },
  {
   "cell_type": "code",
   "execution_count": 3,
   "id": "6285c521",
   "metadata": {},
   "outputs": [],
   "source": [
    "number_initial_samples = 2**4 # 16\n",
    "parameter_dimension = 6\n",
    "sampler = Sobol(parameter_dimension) \n",
    "\n",
    "intial_parameter_values = sampler.random(number_initial_samples) # Our initial parameters\n",
    "initial_responses = Synthetic_experiment(intial_parameter_values)"
   ]
  },
  {
   "cell_type": "markdown",
   "id": "1f988892",
   "metadata": {},
   "source": [
    "## We now perform our scientific experiment.\n",
    "\n",
    "We compare two experimental designs. The first is to randomly choose parameter values and stimulate. We compare what happens when the experimenter uses the best observed value as choice vs best noise-free value.\n",
    "\n",
    "The second is to use Bayesian optimization to inform our decision on where to stimulate. In both cases we choose the same number of tests to perform. In both cases we will compare how well the chosen optimum performs with regards to the true tuning curve.\n",
    "\n",
    "In both cases we also record 5 patients to see credible intervals of performance"
   ]
  },
  {
   "cell_type": "code",
   "execution_count": 4,
   "id": "54b49d83",
   "metadata": {},
   "outputs": [],
   "source": [
    "number_of_tests = 50\n",
    "number_of_patients = 35"
   ]
  },
  {
   "cell_type": "markdown",
   "id": "771cfdb3",
   "metadata": {},
   "source": [
    "### Random design"
   ]
  },
  {
   "cell_type": "code",
   "execution_count": 5,
   "id": "352ec73b",
   "metadata": {
    "scrolled": true
   },
   "outputs": [
    {
     "name": "stdout",
     "output_type": "stream",
     "text": [
      "Experiment for patient 0\n"
     ]
    },
    {
     "name": "stderr",
     "output_type": "stream",
     "text": [
      "  0%|                                                    | 0/50 [00:00<?, ?it/s]/home/austin/anaconda3/envs/botorch/lib/python3.10/site-packages/gpytorch/lazy/lazy_tensor.py:1741: UserWarning: torch.triangular_solve is deprecated in favor of torch.linalg.solve_triangularand will be removed in a future PyTorch release.\n",
      "torch.linalg.solve_triangular has its arguments reversed and does not return a copy of one of the inputs.\n",
      "X = torch.triangular_solve(B, A).solution\n",
      "should be replaced with\n",
      "X = torch.linalg.solve_triangular(A, B). (Triggered internally at  /opt/conda/conda-bld/pytorch_1646755832681/work/aten/src/ATen/native/BatchLinearAlgebra.cpp:1672.)\n",
      "  Linv = torch.triangular_solve(Eye, L, upper=False).solution\n",
      "100%|███████████████████████████████████████████| 50/50 [00:05<00:00,  9.93it/s]\n"
     ]
    },
    {
     "name": "stdout",
     "output_type": "stream",
     "text": [
      "Experiment for patient 1\n"
     ]
    },
    {
     "name": "stderr",
     "output_type": "stream",
     "text": [
      "100%|███████████████████████████████████████████| 50/50 [00:05<00:00,  9.26it/s]\n"
     ]
    },
    {
     "name": "stdout",
     "output_type": "stream",
     "text": [
      "Experiment for patient 2\n"
     ]
    },
    {
     "name": "stderr",
     "output_type": "stream",
     "text": [
      "100%|███████████████████████████████████████████| 50/50 [00:05<00:00,  8.79it/s]\n"
     ]
    },
    {
     "name": "stdout",
     "output_type": "stream",
     "text": [
      "Experiment for patient 3\n"
     ]
    },
    {
     "name": "stderr",
     "output_type": "stream",
     "text": [
      "100%|███████████████████████████████████████████| 50/50 [00:06<00:00,  8.31it/s]\n"
     ]
    },
    {
     "name": "stdout",
     "output_type": "stream",
     "text": [
      "Experiment for patient 4\n"
     ]
    },
    {
     "name": "stderr",
     "output_type": "stream",
     "text": [
      "100%|███████████████████████████████████████████| 50/50 [00:06<00:00,  7.73it/s]\n"
     ]
    },
    {
     "name": "stdout",
     "output_type": "stream",
     "text": [
      "Experiment for patient 5\n"
     ]
    },
    {
     "name": "stderr",
     "output_type": "stream",
     "text": [
      "100%|███████████████████████████████████████████| 50/50 [00:05<00:00,  9.10it/s]\n"
     ]
    },
    {
     "name": "stdout",
     "output_type": "stream",
     "text": [
      "Experiment for patient 6\n"
     ]
    },
    {
     "name": "stderr",
     "output_type": "stream",
     "text": [
      "100%|███████████████████████████████████████████| 50/50 [00:05<00:00,  9.97it/s]\n"
     ]
    },
    {
     "name": "stdout",
     "output_type": "stream",
     "text": [
      "Experiment for patient 7\n"
     ]
    },
    {
     "name": "stderr",
     "output_type": "stream",
     "text": [
      "100%|███████████████████████████████████████████| 50/50 [00:04<00:00, 11.20it/s]\n"
     ]
    },
    {
     "name": "stdout",
     "output_type": "stream",
     "text": [
      "Experiment for patient 8\n"
     ]
    },
    {
     "name": "stderr",
     "output_type": "stream",
     "text": [
      "100%|███████████████████████████████████████████| 50/50 [00:05<00:00,  9.48it/s]\n"
     ]
    },
    {
     "name": "stdout",
     "output_type": "stream",
     "text": [
      "Experiment for patient 9\n"
     ]
    },
    {
     "name": "stderr",
     "output_type": "stream",
     "text": [
      "100%|███████████████████████████████████████████| 50/50 [00:05<00:00,  9.84it/s]\n"
     ]
    },
    {
     "name": "stdout",
     "output_type": "stream",
     "text": [
      "Experiment for patient 10\n"
     ]
    },
    {
     "name": "stderr",
     "output_type": "stream",
     "text": [
      "100%|███████████████████████████████████████████| 50/50 [00:05<00:00,  8.58it/s]\n"
     ]
    },
    {
     "name": "stdout",
     "output_type": "stream",
     "text": [
      "Experiment for patient 11\n"
     ]
    },
    {
     "name": "stderr",
     "output_type": "stream",
     "text": [
      "100%|███████████████████████████████████████████| 50/50 [00:04<00:00, 10.45it/s]\n"
     ]
    },
    {
     "name": "stdout",
     "output_type": "stream",
     "text": [
      "Experiment for patient 12\n"
     ]
    },
    {
     "name": "stderr",
     "output_type": "stream",
     "text": [
      "100%|███████████████████████████████████████████| 50/50 [00:05<00:00,  8.39it/s]\n"
     ]
    },
    {
     "name": "stdout",
     "output_type": "stream",
     "text": [
      "Experiment for patient 13\n"
     ]
    },
    {
     "name": "stderr",
     "output_type": "stream",
     "text": [
      "100%|███████████████████████████████████████████| 50/50 [00:05<00:00,  9.50it/s]\n"
     ]
    },
    {
     "name": "stdout",
     "output_type": "stream",
     "text": [
      "Experiment for patient 14\n"
     ]
    },
    {
     "name": "stderr",
     "output_type": "stream",
     "text": [
      "100%|███████████████████████████████████████████| 50/50 [00:05<00:00,  9.32it/s]\n"
     ]
    },
    {
     "name": "stdout",
     "output_type": "stream",
     "text": [
      "Experiment for patient 15\n"
     ]
    },
    {
     "name": "stderr",
     "output_type": "stream",
     "text": [
      "100%|███████████████████████████████████████████| 50/50 [00:04<00:00, 11.06it/s]\n"
     ]
    },
    {
     "name": "stdout",
     "output_type": "stream",
     "text": [
      "Experiment for patient 16\n"
     ]
    },
    {
     "name": "stderr",
     "output_type": "stream",
     "text": [
      "100%|███████████████████████████████████████████| 50/50 [00:05<00:00,  9.21it/s]\n"
     ]
    },
    {
     "name": "stdout",
     "output_type": "stream",
     "text": [
      "Experiment for patient 17\n"
     ]
    },
    {
     "name": "stderr",
     "output_type": "stream",
     "text": [
      "100%|███████████████████████████████████████████| 50/50 [00:05<00:00, 10.00it/s]\n"
     ]
    },
    {
     "name": "stdout",
     "output_type": "stream",
     "text": [
      "Experiment for patient 18\n"
     ]
    },
    {
     "name": "stderr",
     "output_type": "stream",
     "text": [
      "100%|███████████████████████████████████████████| 50/50 [00:04<00:00, 10.85it/s]\n"
     ]
    },
    {
     "name": "stdout",
     "output_type": "stream",
     "text": [
      "Experiment for patient 19\n"
     ]
    },
    {
     "name": "stderr",
     "output_type": "stream",
     "text": [
      "100%|███████████████████████████████████████████| 50/50 [00:05<00:00,  8.57it/s]\n"
     ]
    },
    {
     "name": "stdout",
     "output_type": "stream",
     "text": [
      "Experiment for patient 20\n"
     ]
    },
    {
     "name": "stderr",
     "output_type": "stream",
     "text": [
      "100%|███████████████████████████████████████████| 50/50 [00:04<00:00, 11.82it/s]\n"
     ]
    },
    {
     "name": "stdout",
     "output_type": "stream",
     "text": [
      "Experiment for patient 21\n"
     ]
    },
    {
     "name": "stderr",
     "output_type": "stream",
     "text": [
      "100%|███████████████████████████████████████████| 50/50 [00:05<00:00,  8.98it/s]\n"
     ]
    },
    {
     "name": "stdout",
     "output_type": "stream",
     "text": [
      "Experiment for patient 22\n"
     ]
    },
    {
     "name": "stderr",
     "output_type": "stream",
     "text": [
      "100%|███████████████████████████████████████████| 50/50 [00:06<00:00,  7.87it/s]\n"
     ]
    },
    {
     "name": "stdout",
     "output_type": "stream",
     "text": [
      "Experiment for patient 23\n"
     ]
    },
    {
     "name": "stderr",
     "output_type": "stream",
     "text": [
      "100%|███████████████████████████████████████████| 50/50 [00:04<00:00, 11.77it/s]\n"
     ]
    },
    {
     "name": "stdout",
     "output_type": "stream",
     "text": [
      "Experiment for patient 24\n"
     ]
    },
    {
     "name": "stderr",
     "output_type": "stream",
     "text": [
      "100%|███████████████████████████████████████████| 50/50 [00:07<00:00,  6.46it/s]\n"
     ]
    },
    {
     "name": "stdout",
     "output_type": "stream",
     "text": [
      "Experiment for patient 25\n"
     ]
    },
    {
     "name": "stderr",
     "output_type": "stream",
     "text": [
      "100%|███████████████████████████████████████████| 50/50 [00:04<00:00, 11.31it/s]\n"
     ]
    },
    {
     "name": "stdout",
     "output_type": "stream",
     "text": [
      "Experiment for patient 26\n"
     ]
    },
    {
     "name": "stderr",
     "output_type": "stream",
     "text": [
      "100%|███████████████████████████████████████████| 50/50 [00:04<00:00, 11.92it/s]\n"
     ]
    },
    {
     "name": "stdout",
     "output_type": "stream",
     "text": [
      "Experiment for patient 27\n"
     ]
    },
    {
     "name": "stderr",
     "output_type": "stream",
     "text": [
      "100%|███████████████████████████████████████████| 50/50 [00:04<00:00, 11.95it/s]\n"
     ]
    },
    {
     "name": "stdout",
     "output_type": "stream",
     "text": [
      "Experiment for patient 28\n"
     ]
    },
    {
     "name": "stderr",
     "output_type": "stream",
     "text": [
      "100%|███████████████████████████████████████████| 50/50 [00:06<00:00,  8.04it/s]\n"
     ]
    },
    {
     "name": "stdout",
     "output_type": "stream",
     "text": [
      "Experiment for patient 29\n"
     ]
    },
    {
     "name": "stderr",
     "output_type": "stream",
     "text": [
      "100%|███████████████████████████████████████████| 50/50 [00:05<00:00,  9.42it/s]\n"
     ]
    },
    {
     "name": "stdout",
     "output_type": "stream",
     "text": [
      "Experiment for patient 30\n"
     ]
    },
    {
     "name": "stderr",
     "output_type": "stream",
     "text": [
      "100%|███████████████████████████████████████████| 50/50 [00:04<00:00, 11.08it/s]\n"
     ]
    },
    {
     "name": "stdout",
     "output_type": "stream",
     "text": [
      "Experiment for patient 31\n"
     ]
    },
    {
     "name": "stderr",
     "output_type": "stream",
     "text": [
      "100%|███████████████████████████████████████████| 50/50 [00:05<00:00,  8.90it/s]\n"
     ]
    },
    {
     "name": "stdout",
     "output_type": "stream",
     "text": [
      "Experiment for patient 32\n"
     ]
    },
    {
     "name": "stderr",
     "output_type": "stream",
     "text": [
      "100%|███████████████████████████████████████████| 50/50 [00:05<00:00,  8.86it/s]\n"
     ]
    },
    {
     "name": "stdout",
     "output_type": "stream",
     "text": [
      "Experiment for patient 33\n"
     ]
    },
    {
     "name": "stderr",
     "output_type": "stream",
     "text": [
      "100%|███████████████████████████████████████████| 50/50 [00:05<00:00,  9.43it/s]\n"
     ]
    },
    {
     "name": "stdout",
     "output_type": "stream",
     "text": [
      "Experiment for patient 34\n"
     ]
    },
    {
     "name": "stderr",
     "output_type": "stream",
     "text": [
      "100%|███████████████████████████████████████████| 50/50 [00:03<00:00, 13.82it/s]\n"
     ]
    }
   ],
   "source": [
    "random_true_optimum = np.zeros((number_of_patients,number_of_tests))\n",
    "random_empirical_optimum = np.zeros((number_of_patients,number_of_tests))\n",
    "random_surrogate_optimum = np.zeros((number_of_patients,number_of_tests))\n",
    "\n",
    "for patient_id in range(number_of_patients):\n",
    "    print('Experiment for patient %d'%patient_id)\n",
    "    patient_initial_parameter_values = sampler.random(number_initial_samples)\n",
    "    patient_initial_responses = Synthetic_experiment(patient_initial_parameter_values)\n",
    "    \n",
    "    patient_parameter_values = patient_initial_parameter_values.copy()\n",
    "    patient_responses = patient_initial_responses.copy()\n",
    "        \n",
    "    for experiment_id in trange(number_of_tests):\n",
    "        # Choose parameters\n",
    "        parameters_random = rand.uniform(low=0,high=1,size=(1,parameter_dimension))\n",
    "        \n",
    "        # Observe response\n",
    "        patient_response_random = Synthetic_experiment(parameters_random)\n",
    "        \n",
    "        # Add to list of experiments and results\n",
    "        patient_parameter_values = np.vstack((patient_parameter_values,parameters_random))\n",
    "        patient_responses = np.append(patient_responses,patient_response_random)\n",
    "                        \n",
    "        # Ask God what the true response was\n",
    "        patient_true_responses = true_response_curve(patient_parameter_values)\n",
    "        \n",
    "        # Learn a surrogate model\n",
    "        \n",
    "        ppv_t = torch.from_numpy(patient_parameter_values)\n",
    "        ppr_t = torch.from_numpy(np.atleast_2d(patient_responses).T)\n",
    "        surrogate_model = SingleTaskGP(ppv_t,ppr_t)\n",
    "        mll = ExactMarginalLogLikelihood(surrogate_model.likelihood,surrogate_model)\n",
    "        fit_gpytorch_model(mll)\n",
    "        random_points = sampler.random(1024)\n",
    "        random_true = true_response_curve(random_points)\n",
    "        posterior = surrogate_model.posterior(torch.from_numpy(random_points))\n",
    "        post_mean = posterior.mean.detach().numpy()\n",
    "        maximum_surrogate_value_location = np.argmax(post_mean)\n",
    "        random_surrogate_optimum[patient_id,experiment_id] = random_true[maximum_surrogate_value_location]\n",
    "        \n",
    "        \n",
    "        maximum_obs_value_location = np.argmax(patient_responses)\n",
    "        maximum_true_value_location = np.argmax(patient_true_responses)\n",
    "\n",
    "        random_true_optimum[patient_id,experiment_id] = patient_true_responses[maximum_true_value_location]\n",
    "        random_empirical_optimum[patient_id,experiment_id] = patient_true_responses[maximum_obs_value_location]  "
   ]
  },
  {
   "cell_type": "code",
   "execution_count": 6,
   "id": "71908bec",
   "metadata": {},
   "outputs": [
    {
     "data": {
      "text/plain": [
       "(16.0, 67.0)"
      ]
     },
     "execution_count": 6,
     "metadata": {},
     "output_type": "execute_result"
    },
    {
     "data": {
      "image/png": "[encoded data removed]",
      "text/plain": [
       "<Figure size 576x432 with 1 Axes>"
      ]
     },
     "metadata": {
      "needs_background": "light"
     },
     "output_type": "display_data"
    }
   ],
   "source": [
    "r_average_true_optimum = np.mean(random_true_optimum,axis=0)\n",
    "r_average_empirical_optimum = np.mean(random_empirical_optimum,axis=0)\n",
    "r_average_surrogate_optimum = np.mean(random_surrogate_optimum,axis=0)\n",
    "\n",
    "\n",
    "def confidence_interval(y):\n",
    "    return 1.96 * y.std(axis=0) / np.sqrt(number_of_patients)\n",
    "\n",
    "r_ci_true_optimum = confidence_interval(random_true_optimum)\n",
    "r_ci_empirical_optimum = confidence_interval(random_empirical_optimum)\n",
    "r_ci_surrogate_optimum = confidence_interval(random_surrogate_optimum)\n",
    "\n",
    "\n",
    "x = np.arange(number_of_tests) + 17\n",
    "\n",
    "lw = 3\n",
    "fs1 = 14\n",
    "fs2 = 24\n",
    "fs3 = 16\n",
    "\n",
    "fig, ax = plt.subplots(1, 1, figsize=(8, 6))\n",
    "ax.errorbar(x,r_average_true_optimum,yerr=r_ci_true_optimum,\n",
    "            lw=lw,c='deeppink',label='True response')\n",
    "ax.errorbar(x,r_average_empirical_optimum,yerr=r_ci_empirical_optimum,\n",
    "            lw=lw,c='dodgerblue',label='Empirical response')\n",
    "ax.errorbar(x,r_average_surrogate_optimum,yerr=r_ci_surrogate_optimum,\n",
    "            lw=lw,c='gold',label='Surrogate response')\n",
    "ax.legend(loc='upper left',fontsize=fs3)\n",
    "ax.set_xlabel('Trial number',fontsize=fs1)\n",
    "ax.set_ylabel('Response curve value',fontsize=fs1)\n",
    "ax.set_title('Random performance',fontsize=fs2)\n",
    "ax.set_xlim([16,67])"
   ]
  },
  {
   "cell_type": "markdown",
   "id": "9476821a",
   "metadata": {},
   "source": [
    "Clearly the performance of random sampling is unsatisfactory. Even when we can evaluate the true response to select the best parameter value, adaquately sampling the space is so slow that even with a substantial number of trials we are far short of the true optimum. Picking the best empirical value is even worse and not guaranteed to monotonically improve. Suprisingly the surrogate value is even worse. Not sure why"
   ]
  },
  {
   "cell_type": "markdown",
   "id": "1171aa5f",
   "metadata": {},
   "source": [
    "### Bayesian optimization design\n",
    "\n",
    "We use fewer patients as this is substantially slower to use "
   ]
  },
  {
   "cell_type": "code",
   "execution_count": 7,
   "id": "843a73bc",
   "metadata": {},
   "outputs": [],
   "source": [
    "number_of_tests = 50\n",
    "number_of_patients = 10"
   ]
  },
  {
   "cell_type": "markdown",
   "id": "97f969d0",
   "metadata": {},
   "source": [
    "The details of how to use Bayesian optimization as I implemented it can be found in the Introduction_1D notebook or in the comments of bayesianOptModel.py in the Code directory. Nevertheless I will repeat them here."
   ]
  },
  {
   "cell_type": "code",
   "execution_count": 8,
   "id": "13fe7cf5",
   "metadata": {},
   "outputs": [
    {
     "name": "stdout",
     "output_type": "stream",
     "text": [
      "BasicBayesOpt object\n",
      "Version 1.2.2\n",
      "Creation date 2022-05-25 14:56:46.903128\n",
      "Fitted False\n",
      ">>>>>>>>>>>>>>>>>>>>>>>>>>>>>>>>\n",
      "Acquisition function parameters:\n",
      "type: noisy_ei\n",
      "raw_samples: 512\n",
      "num_candidates: 1\n",
      "num_restarts: 20\n",
      ">>>>>>>>>>>>>>>>>\n",
      "Model parameters:\n",
      "type: SingleTaskGP\n",
      "sd: 0.25\n",
      "\n"
     ]
    }
   ],
   "source": [
    "bounds = np.zeros((2,parameter_dimension))\n",
    "model_dict = {'type':'SingleTaskGP'}\n",
    "bounds[1] = 1\n",
    "model = BasicBayesOpt(intial_parameter_values,np.atleast_2d(initial_responses).T,bounds,model_options=model_dict)\n",
    "print(model)"
   ]
  },
  {
   "cell_type": "code",
   "execution_count": 10,
   "id": "c1883d4b",
   "metadata": {},
   "outputs": [
    {
     "name": "stdout",
     "output_type": "stream",
     "text": [
      "Experiment for patient 0\n",
      "Experiment for patient 1\n",
      "Experiment for patient 2\n",
      "Experiment for patient 3\n",
      "Experiment for patient 4\n",
      "Experiment for patient 5\n",
      "Experiment for patient 6\n",
      "Experiment for patient 7\n",
      "Experiment for patient 8\n",
      "Experiment for patient 9\n"
     ]
    }
   ],
   "source": [
    "bo_true_optimum = np.zeros((number_of_patients,number_of_tests))\n",
    "bo_empirical_optimum_wrong = np.zeros((number_of_patients,number_of_tests))\n",
    "bo_surrogate_optimum_wrong = np.zeros((number_of_patients,number_of_tests))\n",
    "\n",
    "bo_empirical_optimum = np.zeros((number_of_patients,number_of_tests))\n",
    "bo_surrogate_optimum = np.zeros((number_of_patients,number_of_tests))\n",
    "\n",
    "for patient_id in range(number_of_patients):\n",
    "    print('Experiment for patient %d'%patient_id)\n",
    "    patient_initial_parameter_values = sampler.random(number_initial_samples)\n",
    "    patient_initial_responses = Synthetic_experiment(patient_initial_parameter_values)\n",
    "    \n",
    "    patient_parameter_values = patient_initial_parameter_values.copy()\n",
    "    patient_responses = patient_initial_responses.copy()\n",
    "    \n",
    "    patient_model = BasicBayesOpt(patient_parameter_values,np.atleast_2d(patient_responses).T,\n",
    "                                  bounds,model_options=model_dict)\n",
    "        \n",
    "    for experiment_id in range(number_of_tests):\n",
    "        simulation_parameters_bo = patient_model.ask()\n",
    "        patient_response_bo = Synthetic_experiment(simulation_parameters_bo)\n",
    "        patient_model.answer(simulation_parameters_bo,patient_response_bo)\n",
    "                \n",
    "        patient_true_responses = true_response_curve(patient_model.train_x)\n",
    "        maximum_true_value_location = np.argmax(patient_true_responses)\n",
    "\n",
    "        bo_true_optimum[patient_id,experiment_id] = patient_true_responses[maximum_true_value_location]\n",
    "        \n",
    "        params_emp,bo_empirical_optimum_wrong[patient_id,experiment_id] = patient_model.optimum(empirical=True,\n",
    "                                                                                       return_y=True)\n",
    "        params_sur,bo_surrogate_optimum_wrong[patient_id,experiment_id] = patient_model.optimum(return_y=True)\n",
    "        \n",
    "        bo_empirical_optimum[patient_id,experiment_id] = true_response_curve(params_emp)\n",
    "        bo_surrogate_optimum[patient_id,experiment_id] = true_response_curve(params_sur)"
   ]
  },
  {
   "cell_type": "code",
   "execution_count": 11,
   "id": "7e492f4a",
   "metadata": {},
   "outputs": [
    {
     "data": {
      "text/plain": [
       "(16.0, 67.0)"
      ]
     },
     "execution_count": 11,
     "metadata": {},
     "output_type": "execute_result"
    },
    {
     "data": {
      "image/png": "[encoded data removed]",
      "text/plain": [
       "<Figure size 576x432 with 1 Axes>"
      ]
     },
     "metadata": {
      "needs_background": "light"
     },
     "output_type": "display_data"
    }
   ],
   "source": [
    "bo_average_true_optimum = np.mean(bo_true_optimum,axis=0)\n",
    "bo_average_empirical_optimum = np.mean(bo_empirical_optimum_wrong,axis=0)\n",
    "bo_average_surrogate_optimum = np.mean(bo_surrogate_optimum_wrong,axis=0)\n",
    "\n",
    "\n",
    "def confidence_interval(y):\n",
    "    return 1.96 * y.std(axis=0) / np.sqrt(number_of_patients)\n",
    "\n",
    "bo_ci_true_optimum = confidence_interval(bo_true_optimum)\n",
    "bo_ci_empirical_optimum = confidence_interval(bo_empirical_optimum_wrong)\n",
    "bo_ci_surrogate_optimum = confidence_interval(bo_surrogate_optimum_wrong)\n",
    "\n",
    "\n",
    "x = np.arange(number_of_tests) + 17\n",
    "\n",
    "lw = 3\n",
    "fs1 = 14\n",
    "fs2 = 24\n",
    "fs3 = 16\n",
    "\n",
    "fig, ax = plt.subplots(1, 1, figsize=(8, 6))\n",
    "ax.errorbar(x,bo_average_true_optimum,yerr=bo_ci_true_optimum,\n",
    "            lw=lw,c='deeppink',label='True response')\n",
    "ax.errorbar(x,bo_average_empirical_optimum,yerr=bo_ci_empirical_optimum,\n",
    "            lw=lw,c='dodgerblue',label='Empirical response')\n",
    "ax.errorbar(x,bo_average_surrogate_optimum,yerr=bo_ci_surrogate_optimum,\n",
    "            lw=lw,c='gold',label='Surrogate response')\n",
    "ax.legend(loc='upper left',fontsize=fs3)\n",
    "ax.set_xlabel('Trial number',fontsize=fs1)\n",
    "ax.set_ylabel('Response curve value',fontsize=fs1)\n",
    "ax.set_title('Bayesian optimization performance',fontsize=fs2)\n",
    "ax.set_xlim([16,67])"
   ]
  },
  {
   "cell_type": "markdown",
   "id": "8604c122",
   "metadata": {},
   "source": [
    "There are two things to be aware of, which is why I'm including this figure. First, default options for the GP standardize the input, which is why the surrogate model response looks so weird. Secondly, if you use the empirical response you will include noise, which is why the empirical response exceeds the true maximum (3.3). Here's it done correctly."
   ]
  },
  {
   "cell_type": "code",
   "execution_count": 12,
   "id": "eb00b4f6",
   "metadata": {},
   "outputs": [
    {
     "data": {
      "text/plain": [
       "(16.0, 67.0)"
      ]
     },
     "execution_count": 12,
     "metadata": {},
     "output_type": "execute_result"
    },
    {
     "data": {
      "image/png": "[encoded data removed]",
      "text/plain": [
       "<Figure size 576x432 with 1 Axes>"
      ]
     },
     "metadata": {
      "needs_background": "light"
     },
     "output_type": "display_data"
    }
   ],
   "source": [
    "bo_average_true_optimum = np.mean(bo_true_optimum,axis=0)\n",
    "bo_average_empirical_optimum = np.mean(bo_empirical_optimum,axis=0)\n",
    "bo_average_surrogate_optimum = np.mean(bo_surrogate_optimum,axis=0)\n",
    "\n",
    "\n",
    "def confidence_interval(y):\n",
    "    return 1.96 * y.std(axis=0) / np.sqrt(number_of_patients)\n",
    "\n",
    "bo_ci_true_optimum = confidence_interval(bo_true_optimum)\n",
    "bo_ci_empirical_optimum = confidence_interval(bo_empirical_optimum)\n",
    "bo_ci_surrogate_optimum = confidence_interval(bo_surrogate_optimum)\n",
    "\n",
    "\n",
    "x = np.arange(number_of_tests) + 17\n",
    "\n",
    "lw = 3\n",
    "fs1 = 14\n",
    "fs2 = 24\n",
    "fs3 = 16\n",
    "\n",
    "fig, ax = plt.subplots(1, 1, figsize=(8, 6))\n",
    "ax.errorbar(x,bo_average_true_optimum,yerr=bo_ci_true_optimum,\n",
    "            lw=lw,c='deeppink',label='True response')\n",
    "ax.errorbar(x,bo_average_empirical_optimum,yerr=bo_ci_empirical_optimum,\n",
    "            lw=lw,c='dodgerblue',label='Empirical response')\n",
    "ax.errorbar(x,bo_average_surrogate_optimum,yerr=bo_ci_surrogate_optimum,\n",
    "            lw=lw,c='gold',label='Surrogate response')\n",
    "ax.legend(loc='upper left',fontsize=fs3)\n",
    "ax.set_xlabel('Trial number',fontsize=fs1)\n",
    "ax.set_ylabel('Response curve value',fontsize=fs1)\n",
    "ax.set_title('Bayesian optimization performance',fontsize=fs2)\n",
    "ax.set_xlim([16,67])"
   ]
  },
  {
   "cell_type": "markdown",
   "id": "7e0e0e20",
   "metadata": {},
   "source": [
    "Surprisingly empirical is better than using the surrogate, very surprising to me not sure why"
   ]
  },
  {
   "cell_type": "markdown",
   "id": "17d48077",
   "metadata": {},
   "source": [
    "## We now compare the performance of the two"
   ]
  },
  {
   "cell_type": "code",
   "execution_count": 13,
   "id": "d12bad7d",
   "metadata": {},
   "outputs": [
    {
     "data": {
      "text/plain": [
       "(16.0, 67.0)"
      ]
     },
     "execution_count": 13,
     "metadata": {},
     "output_type": "execute_result"
    },
    {
     "data": {
      "image/png": "[encoded data removed]",
      "text/plain": [
       "<Figure size 576x432 with 1 Axes>"
      ]
     },
     "metadata": {
      "needs_background": "light"
     },
     "output_type": "display_data"
    }
   ],
   "source": [
    "fig, ax = plt.subplots(1, 1, figsize=(8, 6))\n",
    "ax.errorbar(x,r_average_empirical_optimum,yerr=r_ci_empirical_optimum,\n",
    "            lw=lw,c='deeppink',label='Random')\n",
    "ax.errorbar(x,bo_average_empirical_optimum,yerr=bo_ci_empirical_optimum,\n",
    "            lw=lw,c='dodgerblue',label='Bayesian Optimization')\n",
    "ax.legend(loc='upper left',fontsize=fs3)\n",
    "ax.set_xlabel('Trial number',fontsize=fs1)\n",
    "ax.set_ylabel('Response curve value',fontsize=fs1)\n",
    "ax.set_title('Empirical Selection Performance',fontsize=fs2)\n",
    "ax.set_xlim([16,67])"
   ]
  },
  {
   "cell_type": "markdown",
   "id": "ce592b43",
   "metadata": {},
   "source": [
    "# Summary\n",
    "\n",
    "Bayesian optimization can really shine in high-dimensional parameter spaces as the \"volume\" of the space makes random sampling highly inefficient. Furthermore, without knowing the true tuning curve using the best empirical value can give erronius results."
   ]
  }
 ],
 "metadata": {
  "kernelspec": {
   "display_name": "Python 3 (ipykernel)",
   "language": "python",
   "name": "python3"
  },
  "language_info": {
   "codemirror_mode": {
    "name": "ipython",
    "version": 3
   },
   "file_extension": ".py",
   "mimetype": "text/x-python",
   "name": "python",
   "nbconvert_exporter": "python",
   "pygments_lexer": "ipython3",
   "version": "3.10.4"
  }
 },
 "nbformat": 4,
 "nbformat_minor": 5
}
